{
 "cells": [
  {
   "attachments": {},
   "cell_type": "markdown",
   "metadata": {},
   "source": [
    "# Demonstrate More Functionality with Data in Jupyter Notebook"
   ]
  },
  {
   "attachments": {},
   "cell_type": "markdown",
   "metadata": {},
   "source": [
    "## Import some of the old data from last lesson"
   ]
  },
  {
   "cell_type": "code",
   "execution_count": 1,
   "metadata": {},
   "outputs": [
    {
     "data": {
      "text/plain": [
       "[{'Day': 'Monday', 'Low': '56', 'High': '75'},\n",
       " {'Day': 'Tuesday', 'Low': '53', 'High': '72'},\n",
       " {'Day': 'Wednesday', 'Low': '50', 'High': '70'}]"
      ]
     },
     "execution_count": 1,
     "metadata": {},
     "output_type": "execute_result"
    }
   ],
   "source": [
    "from data_utils import read_csv_rows, columnar\n",
    "\n",
    "filename: str = \"../data/weather.csv\"\n",
    "data: list[dict[str, str]] = read_csv_rows(filename)\n",
    "data"
   ]
  },
  {
   "attachments": {},
   "cell_type": "markdown",
   "metadata": {},
   "source": [
    "## Data in Column Oriented Format"
   ]
  },
  {
   "cell_type": "code",
   "execution_count": 2,
   "metadata": {},
   "outputs": [
    {
     "data": {
      "text/plain": [
       "{'Day': ['Monday', 'Tuesday', 'Wednesday'],\n",
       " 'Low': ['56', '53', '50'],\n",
       " 'High': ['75', '72', '70']}"
      ]
     },
     "execution_count": 2,
     "metadata": {},
     "output_type": "execute_result"
    }
   ],
   "source": [
    "from data_utils import columnar\n",
    "\n",
    "column_data: dict[str, list[str]] = columnar(data)\n",
    "column_data"
   ]
  },
  {
   "attachments": {},
   "cell_type": "markdown",
   "metadata": {},
   "source": [
    "## Printing Data as Table"
   ]
  },
  {
   "cell_type": "code",
   "execution_count": 3,
   "metadata": {},
   "outputs": [
    {
     "data": {
      "text/html": [
       "<table>\n",
       "<thead>\n",
       "<tr><th>Day      </th><th style=\"text-align: right;\">  Low</th><th style=\"text-align: right;\">  High</th></tr>\n",
       "</thead>\n",
       "<tbody>\n",
       "<tr><td>Monday   </td><td style=\"text-align: right;\">   56</td><td style=\"text-align: right;\">    75</td></tr>\n",
       "<tr><td>Tuesday  </td><td style=\"text-align: right;\">   53</td><td style=\"text-align: right;\">    72</td></tr>\n",
       "<tr><td>Wednesday</td><td style=\"text-align: right;\">   50</td><td style=\"text-align: right;\">    70</td></tr>\n",
       "</tbody>\n",
       "</table>"
      ],
      "text/plain": [
       "'<table>\\n<thead>\\n<tr><th>Day      </th><th style=\"text-align: right;\">  Low</th><th style=\"text-align: right;\">  High</th></tr>\\n</thead>\\n<tbody>\\n<tr><td>Monday   </td><td style=\"text-align: right;\">   56</td><td style=\"text-align: right;\">    75</td></tr>\\n<tr><td>Tuesday  </td><td style=\"text-align: right;\">   53</td><td style=\"text-align: right;\">    72</td></tr>\\n<tr><td>Wednesday</td><td style=\"text-align: right;\">   50</td><td style=\"text-align: right;\">    70</td></tr>\\n</tbody>\\n</table>'"
      ]
     },
     "execution_count": 3,
     "metadata": {},
     "output_type": "execute_result"
    }
   ],
   "source": [
    "from tabulate import tabulate\n",
    "\n",
    "tabulate(column_data, column_data.keys(), \"html\")"
   ]
  },
  {
   "attachments": {},
   "cell_type": "markdown",
   "metadata": {},
   "source": [
    "## Get table of just Monday and Tuesday Data"
   ]
  },
  {
   "cell_type": "code",
   "execution_count": 4,
   "metadata": {},
   "outputs": [
    {
     "data": {
      "text/html": [
       "<table>\n",
       "<thead>\n",
       "<tr><th>Day    </th><th style=\"text-align: right;\">  Low</th><th style=\"text-align: right;\">  High</th></tr>\n",
       "</thead>\n",
       "<tbody>\n",
       "<tr><td>Monday </td><td style=\"text-align: right;\">   56</td><td style=\"text-align: right;\">    75</td></tr>\n",
       "<tr><td>Tuesday</td><td style=\"text-align: right;\">   53</td><td style=\"text-align: right;\">    72</td></tr>\n",
       "</tbody>\n",
       "</table>"
      ],
      "text/plain": [
       "'<table>\\n<thead>\\n<tr><th>Day    </th><th style=\"text-align: right;\">  Low</th><th style=\"text-align: right;\">  High</th></tr>\\n</thead>\\n<tbody>\\n<tr><td>Monday </td><td style=\"text-align: right;\">   56</td><td style=\"text-align: right;\">    75</td></tr>\\n<tr><td>Tuesday</td><td style=\"text-align: right;\">   53</td><td style=\"text-align: right;\">    72</td></tr>\\n</tbody>\\n</table>'"
      ]
     },
     "execution_count": 4,
     "metadata": {},
     "output_type": "execute_result"
    }
   ],
   "source": [
    "smaller_data_set: dict[str, list[str]] = {}\n",
    "\n",
    "for key in column_data:\n",
    "    #make an entry with \"key\" as they key \n",
    "    #and the first two elements of the list as the values\n",
    "    sub_list: list[str] = []\n",
    "    data_to_get: list[str] = column_data[key]\n",
    "    idx: int = 0\n",
    "    \n",
    "    while idx < 2:\n",
    "        sub_list.append(data_to_get[idx])\n",
    "        idx += 1 \n",
    "    smaller_data_set[key] = sub_list\n",
    "\n",
    "tabulate(smaller_data_set, smaller_data_set.keys(), \"html\")\n"
   ]
  },
  {
   "attachments": {},
   "cell_type": "markdown",
   "metadata": {},
   "source": [
    "## Get Monday and Tuesday, but with original data\n"
   ]
  },
  {
   "cell_type": "code",
   "execution_count": 6,
   "metadata": {},
   "outputs": [
    {
     "data": {
      "text/html": [
       "<table>\n",
       "<thead>\n",
       "<tr><th>Day    </th><th style=\"text-align: right;\">  Low</th><th style=\"text-align: right;\">  High</th></tr>\n",
       "</thead>\n",
       "<tbody>\n",
       "<tr><td>Monday </td><td style=\"text-align: right;\">   56</td><td style=\"text-align: right;\">    75</td></tr>\n",
       "<tr><td>Tuesday</td><td style=\"text-align: right;\">   53</td><td style=\"text-align: right;\">    72</td></tr>\n",
       "</tbody>\n",
       "</table>"
      ],
      "text/plain": [
       "'<table>\\n<thead>\\n<tr><th>Day    </th><th style=\"text-align: right;\">  Low</th><th style=\"text-align: right;\">  High</th></tr>\\n</thead>\\n<tbody>\\n<tr><td>Monday </td><td style=\"text-align: right;\">   56</td><td style=\"text-align: right;\">    75</td></tr>\\n<tr><td>Tuesday</td><td style=\"text-align: right;\">   53</td><td style=\"text-align: right;\">    72</td></tr>\\n</tbody>\\n</table>'"
      ]
     },
     "execution_count": 6,
     "metadata": {},
     "output_type": "execute_result"
    }
   ],
   "source": [
    "idx: int = 0\n",
    "smaller_data_set_row_oriented = []\n",
    "while idx < 2:\n",
    "    smaller_data_set_row_oriented.append(data[idx])\n",
    "    idx += 1\n",
    "smaller_data_set_row_oriented\n",
    "\n",
    "smaller_data_set_2 = columnar(smaller_data_set_row_oriented)\n",
    "tabulate(smaller_data_set_2, smaller_data_set_2.keys(), \"html\")"
   ]
  }
 ],
 "metadata": {
  "kernelspec": {
   "display_name": "Python 3",
   "language": "python",
   "name": "python3"
  },
  "language_info": {
   "codemirror_mode": {
    "name": "ipython",
    "version": 3
   },
   "file_extension": ".py",
   "mimetype": "text/x-python",
   "name": "python",
   "nbconvert_exporter": "python",
   "pygments_lexer": "ipython3",
   "version": "3.11.1"
  },
  "orig_nbformat": 4,
  "vscode": {
   "interpreter": {
    "hash": "aee8b7b246df8f9039afb4144a1f6fd8d2ca17a180786b69acc140d282b71a49"
   }
  }
 },
 "nbformat": 4,
 "nbformat_minor": 2
}
